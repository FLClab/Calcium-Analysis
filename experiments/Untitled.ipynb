{
 "cells": [
  {
   "cell_type": "code",
   "execution_count": 71,
   "id": "70bd318e",
   "metadata": {},
   "outputs": [
    {
     "name": "stdout",
     "output_type": "stream",
     "text": [
      "0.05079418048262596\n"
     ]
    }
   ],
   "source": [
    "import numpy \n",
    "import h5py\n",
    "import time\n",
    "\n",
    "Training_source = \"../data/calcium_dataset_crops_complete-1:4_tmp.h5\"\n",
    "\n",
    "# numpy.save(\"../data/test.npy\", numpy.random.rand(64, 64, 64))\n",
    "start = time.perf_counter()\n",
    "for _ in range(128):\n",
    "#     data = numpy.load(\"../data/test.npy\")\n",
    "    with h5py.File(Training_source, \"r\") as file:\n",
    "        data = file[\"train\"][\"1\"][\"input\"][\"1\"][(\n",
    "            slice(32, None),\n",
    "            slice(32, None),\n",
    "            slice(32, None)\n",
    "        )]\n",
    "#         data = file[\"train\"][\"1\"][\"input\"][\"1\"][()]\n",
    "#         data = data[(\n",
    "#             slice(32, None),\n",
    "#             slice(32, None),\n",
    "#             slice(32, None)\n",
    "#         )]\n",
    "#     numpy.zeros((64, 64, 64), dtype=numpy.uint8)\n",
    "print(time.perf_counter() - start)"
   ]
  },
  {
   "cell_type": "code",
   "execution_count": null,
   "id": "ff9d0a85",
   "metadata": {},
   "outputs": [],
   "source": []
  }
 ],
 "metadata": {
  "kernelspec": {
   "display_name": "calcium",
   "language": "python",
   "name": "calcium"
  },
  "language_info": {
   "codemirror_mode": {
    "name": "ipython",
    "version": 3
   },
   "file_extension": ".py",
   "mimetype": "text/x-python",
   "name": "python",
   "nbconvert_exporter": "python",
   "pygments_lexer": "ipython3",
   "version": "3.8.13"
  }
 },
 "nbformat": 4,
 "nbformat_minor": 5
}
